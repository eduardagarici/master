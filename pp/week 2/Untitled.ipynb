{
 "cells": [
  {
   "cell_type": "code",
   "execution_count": 185,
   "metadata": {},
   "outputs": [
    {
     "name": "stdout",
     "output_type": "stream",
     "text": [
      " [-----------------100%-----------------] 40000 of 40000 complete in 2.1 sec"
     ]
    },
    {
     "name": "stderr",
     "output_type": "stream",
     "text": [
      "c:\\users\\i520921\\appdata\\local\\continuum\\anaconda3\\envs\\pp\\lib\\site-packages\\ipykernel_launcher.py:23: MatplotlibDeprecationWarning: \n",
      "The 'normed' kwarg was deprecated in Matplotlib 2.1 and will be removed in 3.1. Use 'density' instead.\n"
     ]
    },
    {
     "data": {
      "image/png": "[encoded data removed]",
      "text/plain": [
       "<Figure size 432x288 with 1 Axes>"
      ]
     },
     "metadata": {
      "needs_background": "light"
     },
     "output_type": "display_data"
    }
   ],
   "source": [
    "import numpy as np\n",
    "import pymc as pm\n",
    "from matplotlib import pyplot as plt\n",
    "\n",
    "@pm.deterministic\n",
    "def noOfCompanies(N=N,alpha=alpha):\n",
    "    return (1/N)**alpha\n",
    "\n",
    "true_N = 500\n",
    "alpha = pm.Uniform(\"alpha\", lower = 0.8, upper=1)\n",
    "D = pm.rdiscrete_uniform(1, true_N, size = 10)\n",
    "N = pm.DiscreteUniform(\"N\", lower=D.max(), upper=10000)\n",
    "observation = pm.Poisson(\"obs\",value=noOfCompanies, observed=True)\n",
    "\n",
    "model = pm.Model([observation, N,alpha,C])\n",
    "\n",
    "mcmc = pm.MCMC(model)\n",
    "mcmc.sample(40000, 10000, 1)\n",
    "\n",
    "N_samples = mcmc.trace('N')[:]\n",
    "# histogram of the samples:\n",
    "\n",
    "plt.hist(N_samples, normed = True)\n",
    "plt.show()\n"
   ]
  }
 ],
 "metadata": {
  "kernelspec": {
   "display_name": "Python 3",
   "language": "python",
   "name": "python3"
  },
  "language_info": {
   "codemirror_mode": {
    "name": "ipython",
    "version": 3
   },
   "file_extension": ".py",
   "mimetype": "text/x-python",
   "name": "python",
   "nbconvert_exporter": "python",
   "pygments_lexer": "ipython3",
   "version": "3.6.9"
  }
 },
 "nbformat": 4,
 "nbformat_minor": 2
}
