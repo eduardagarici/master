{
 "cells": [
  {
   "cell_type": "code",
   "execution_count": 27,
   "metadata": {},
   "outputs": [
    {
     "name": "stdout",
     "output_type": "stream",
     "text": [
      " [-----------------100%-----------------] 1 of 1 complete in 0.0 sec[-----------------100%-----------------] 1 of 1 complete in 0.0 sec"
     ]
    },
    {
     "ename": "TypeError",
     "evalue": "__init__() got multiple values for argument 'stochastic'",
     "output_type": "error",
     "traceback": [
      "\u001b[1;31m---------------------------------------------------------------------------\u001b[0m",
      "\u001b[1;31mTypeError\u001b[0m                                 Traceback (most recent call last)",
      "\u001b[1;32m<ipython-input-27-c35edbdccef3>\u001b[0m in \u001b[0;36m<module>\u001b[1;34m\u001b[0m\n\u001b[0;32m     96\u001b[0m \u001b[0malpha\u001b[0m \u001b[1;33m=\u001b[0m \u001b[0mpm\u001b[0m\u001b[1;33m.\u001b[0m\u001b[0mUniform\u001b[0m\u001b[1;33m(\u001b[0m\u001b[1;34m\"alpha\"\u001b[0m\u001b[1;33m,\u001b[0m \u001b[0mlower\u001b[0m \u001b[1;33m=\u001b[0m \u001b[1;36m0\u001b[0m \u001b[1;33m,\u001b[0m \u001b[0mupper\u001b[0m \u001b[1;33m=\u001b[0m \u001b[1;36m1\u001b[0m\u001b[1;33m)\u001b[0m\u001b[1;33m\u001b[0m\u001b[1;33m\u001b[0m\u001b[0m\n\u001b[0;32m     97\u001b[0m \u001b[0mbeta\u001b[0m \u001b[1;33m=\u001b[0m \u001b[0mpm\u001b[0m\u001b[1;33m.\u001b[0m\u001b[0mUniform\u001b[0m\u001b[1;33m(\u001b[0m\u001b[1;34m\"beta\"\u001b[0m\u001b[1;33m,\u001b[0m \u001b[0mlower\u001b[0m \u001b[1;33m=\u001b[0m \u001b[1;36m0\u001b[0m \u001b[1;33m,\u001b[0m \u001b[0mupper\u001b[0m \u001b[1;33m=\u001b[0m \u001b[1;36m1\u001b[0m\u001b[1;33m)\u001b[0m\u001b[1;33m\u001b[0m\u001b[1;33m\u001b[0m\u001b[0m\n\u001b[1;32m---> 98\u001b[1;33m \u001b[0mobservations\u001b[0m \u001b[1;33m=\u001b[0m \u001b[0mpm\u001b[0m\u001b[1;33m.\u001b[0m\u001b[0mMetropolis\u001b[0m\u001b[1;33m(\u001b[0m\u001b[1;34m\"obs\"\u001b[0m\u001b[1;33m,\u001b[0m \u001b[0malpha\u001b[0m\u001b[1;33m,\u001b[0m \u001b[0mbeta\u001b[0m\u001b[1;33m,\u001b[0m \u001b[0mstochastic\u001b[0m\u001b[1;33m=\u001b[0m\u001b[0mcwgs\u001b[0m\u001b[1;33m,\u001b[0m \u001b[0mobserved\u001b[0m\u001b[1;33m=\u001b[0m\u001b[1;32mTrue\u001b[0m\u001b[1;33m)\u001b[0m\u001b[1;33m\u001b[0m\u001b[1;33m\u001b[0m\u001b[0m\n\u001b[0m\u001b[0;32m     99\u001b[0m \u001b[1;33m\u001b[0m\u001b[0m\n\u001b[0;32m    100\u001b[0m \u001b[0mmodel\u001b[0m \u001b[1;33m=\u001b[0m \u001b[0mpm\u001b[0m\u001b[1;33m.\u001b[0m\u001b[0mModel\u001b[0m\u001b[1;33m(\u001b[0m\u001b[1;33m[\u001b[0m\u001b[0mobservations\u001b[0m\u001b[1;33m,\u001b[0m\u001b[0malpha\u001b[0m\u001b[1;33m,\u001b[0m \u001b[0meta\u001b[0m\u001b[1;33m]\u001b[0m\u001b[1;33m)\u001b[0m\u001b[1;33m\u001b[0m\u001b[1;33m\u001b[0m\u001b[0m\n",
      "\u001b[1;31mTypeError\u001b[0m: __init__() got multiple values for argument 'stochastic'"
     ]
    }
   ],
   "source": [
    "import numpy as np\n",
    "import pymc as pm\n",
    "import networkx as nx\n",
    "from matplotlib import pyplot as plt\n",
    "\n",
    "alpha = 0.5\n",
    "beta = 0.1\n",
    "L= 9.0\n",
    "\n",
    "G0 = nx.Graph()\n",
    "\n",
    "for i in range(1, 10):\n",
    "    for j in range(i + 1, 11):\n",
    "        G0.add_edge(i, j)\n",
    "\n",
    "# # G0.add_path(range(1, 11))\n",
    "\n",
    "# # G0.add_path(range(1, 11))\n",
    "# G0.remove_edge(2, 3)\n",
    "# G0.remove_edge(3, 4)\n",
    "# G0.add_edge(2, 4)\n",
    "# G0.add_edge(3, 7)\n",
    "# G0.add_edge(8, 10)\n",
    "\n",
    "# nx.draw(G0, with_labels=True, font_weight='bold')\n",
    "# plt.show()\n",
    "\n",
    "\n",
    "@pm.stochastic(dtype=nx.Graph)\n",
    "def cwg(value = G0, alpha = alpha, beta = beta, L = L):\n",
    "    tmp = 0\n",
    "    for i in range(1, len(value)):\n",
    "        for j in range(i + 1, len(value)+1):\n",
    "            if value.has_edge(i, j):\n",
    "                tmp += np.log(alpha) - ((j - i) / (beta * L))\n",
    "            else:\n",
    "                tmp += np.log(1 - alpha * np.exp((i - j) / (beta * L)))\n",
    "    return tmp\n",
    "\n",
    "\n",
    "class CWGMetropolis(pm.Metropolis):\n",
    "    \"\"\" A PyMC Step Method that walks on connected Waxman Graphs by\n",
    "        choosing two distinct nodes at random and considering the \n",
    "        possible link between them. If the link is already in the\n",
    "        graph, it consider it for deletion, and if the link is not in\n",
    "        the graph, it consider it for inclusion, keeping it with the\n",
    "        appropriate Metropolis probability (no Hastings factor necessary,\n",
    "        because the chain is reversible, right?)\n",
    "\n",
    "    \"\"\"\n",
    "    def __init__(self, stochastic):\n",
    "        # Initialize superclass\n",
    "        pm.Metropolis.__init__(self, stochastic, scale=1., verbose=0, tally=False)\n",
    "\n",
    "    def propose(self):\n",
    "        \"\"\" Add an edge or remove an edge\"\"\"\n",
    "        G = self.stochastic.value\n",
    "\n",
    "        G.u_new = np.random.choice(G.nodes()); G.v_new = np.random.choice(G.nodes())\n",
    "        while G.u_new == G.v_new:\n",
    "            G.v_new = np.random.choice(G.nodes())\n",
    "\n",
    "        if G.has_edge(G.u_new, G.v_new):\n",
    "            G.remove_edge(G.u_new, G.v_new)\n",
    "            if not nx.is_connected(G):\n",
    "                G.add_edge(G.u_new, G.v_new)\n",
    "        else:\n",
    "            G.add_edge(G.u_new, G.v_new)\n",
    "        self.stochastic.value = G\n",
    "\n",
    "    def reject(self):\n",
    "        \"\"\" Restore the graph\"\"\"\n",
    "        G = self.stochastic.value\n",
    "        if G.has_edge(G.u_new, G.v_new):\n",
    "            G.remove_edge(G.u_new, G.v_new)\n",
    "        else:\n",
    "            G.add_edge(G.u_new, G.v_new)\n",
    "        self.rejected += 1\n",
    "        self.stochastic.value = G\n",
    "\n",
    "@pm.deterministic\n",
    "def average_degree(G = cwg):\n",
    "    return np.sum([t[1] for t in list(G.degree())]) / len(G)\n",
    "#    return np.sum(list(G.degree().values())) / len(G)\n",
    "\n",
    "mcmc = pm.MCMC([cwg, average_degree])\n",
    "mcmc.use_step_method(CWGMetropolis, cwg)\n",
    "\n",
    "cwgs = []\n",
    "for i in range(1000):\n",
    "    mcmc.sample(1)\n",
    "    cwgs.append(cwg)\n",
    "\n",
    "cwgs = np.array(cwgs)\n",
    "\n",
    "alpha = pm.Uniform(\"alpha\", lower = 0 , upper = 1)\n",
    "beta = pm.Uniform(\"beta\", lower = 0 , upper = 1)\n",
    "observations = pm.Metropolis(\"obs\", alpha, beta, stochastic=cwgs, observed=True)\n",
    "\n",
    "model = pm.Model([observations,alpha, eta])\n",
    "\n",
    "mcmc = pm.MCMC(model)\n",
    "mcmc.sample(1000)\n",
    "alphas = mcmc.trace(\"alpha\")[:]\n",
    "beta = mcmc.trace(\"beta\")[:]\n",
    "\n",
    "\n",
    "# avgd_samples = mcmc.trace(\"average_degree\")[:]\n",
    "\n",
    "# plt.hist(avgd_samples[90000:])\n",
    "# plt.show()\n",
    "\n",
    "# nx.draw(cwg.value, with_labels=True, font_weight='bold')\n",
    "# plt.show()\n",
    "\n",
    "# mcmc.sample(100)\n",
    "\n",
    "# nx.draw(cwg.value, with_labels=True, font_weight='bold')\n",
    "# plt.show()\n",
    "\n",
    "# mcmc.sample(100)\n",
    "\n",
    "# nx.draw(cwg.value, with_labels=True, font_weight='bold')\n",
    "# plt.show()\n"
   ]
  },
  {
   "cell_type": "code",
   "execution_count": 24,
   "metadata": {},
   "outputs": [
    {
     "data": {
      "text/plain": [
       "(1000,)"
      ]
     },
     "execution_count": 24,
     "metadata": {},
     "output_type": "execute_result"
    }
   ],
   "source": [
    "cwgs.shape"
   ]
  }
 ],
 "metadata": {
  "kernelspec": {
   "display_name": "Python 3",
   "language": "python",
   "name": "python3"
  },
  "language_info": {
   "codemirror_mode": {
    "name": "ipython",
    "version": 3
   },
   "file_extension": ".py",
   "mimetype": "text/x-python",
   "name": "python",
   "nbconvert_exporter": "python",
   "pygments_lexer": "ipython3",
   "version": "3.6.9"
  }
 },
 "nbformat": 4,
 "nbformat_minor": 2
}
